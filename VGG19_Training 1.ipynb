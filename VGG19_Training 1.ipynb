{
 "cells": [
  {
   "cell_type": "code",
   "execution_count": 1,
   "id": "12bb2103",
   "metadata": {},
   "outputs": [],
   "source": [
    "import tensorflow as tf\n",
    "from tensorflow.keras.applications import VGG19\n",
    "from tensorflow.keras.layers import Dense, Flatten\n",
    "from tensorflow.keras.models import Model\n",
    "from tensorflow.keras.optimizers import SGD\n",
    "from tensorflow.keras.preprocessing.image import ImageDataGenerator"
   ]
  },
  {
   "cell_type": "code",
   "execution_count": 2,
   "id": "60a1a2e2",
   "metadata": {},
   "outputs": [],
   "source": [
    "# Load the pre-trained VGG19 model\n",
    "vgg19_base = VGG19(weights='imagenet',\n",
    "                   include_top=False,\n",
    "                   input_shape=(224, 224, 3)) "
   ]
  },
  {
   "cell_type": "code",
   "execution_count": 3,
   "id": "3af39d21",
   "metadata": {},
   "outputs": [],
   "source": [
    " # Freeze the weights of all layers in the VGG19 base model\n",
    "for layer in vgg19_base.layers:\n",
    "    layer.trainable = False "
   ]
  },
  {
   "cell_type": "code",
   "execution_count": 4,
   "id": "b2016f60",
   "metadata": {},
   "outputs": [],
   "source": [
    "num_classes = 15 #yeh jitni class banegi utni kariyo\n",
    "batch_size = 32\n",
    "num_epochs = 25 #isko 30 kardiyo"
   ]
  },
  {
   "cell_type": "code",
   "execution_count": 5,
   "id": "06aa5d29",
   "metadata": {},
   "outputs": [],
   "source": [
    "# Create the new model by adding the last convolution block and fully connected layers\n",
    "from tensorflow.keras import models\n",
    "from tensorflow.keras import layers\n",
    "x = vgg19_base.output\n",
    "x = layers.Conv2D(256, (3, 3), activation='relu', padding='same')(x)\n",
    "x = layers.Conv2D(256, (3, 3), activation='relu', padding='same')(x)\n",
    "x = layers.Conv2D(256, (3, 3), activation='relu', padding='same')(x)\n",
    "x = layers.Conv2D(256, (3, 3), activation='relu', padding='same')(x)\n",
    "x = layers.Flatten()(x)\n",
    "x = layers.Dense(4096, activation='relu')(x)\n",
    "x = layers.Dense(4096, activation='relu')(x)\n",
    "predictions = layers.Dense(num_classes, activation='softmax')(x)"
   ]
  },
  {
   "cell_type": "code",
   "execution_count": 6,
   "id": "29056772",
   "metadata": {},
   "outputs": [
    {
     "name": "stdout",
     "output_type": "stream",
     "text": [
      "Found 5536 images belonging to 15 classes.\n"
     ]
    }
   ],
   "source": [
    "# Train only the last few layers of the model with your own data\n",
    "train_datagen = ImageDataGenerator(rescale=1./255)\n",
    "train_generator = train_datagen.flow_from_directory(\n",
    "        'split_data/train/',\n",
    "        target_size=(224, 224),\n",
    "        batch_size=batch_size,\n",
    "        class_mode='categorical')"
   ]
  },
  {
   "cell_type": "code",
   "execution_count": 7,
   "id": "f24b78f7",
   "metadata": {},
   "outputs": [
    {
     "name": "stdout",
     "output_type": "stream",
     "text": [
      "Found 686 images belonging to 15 classes.\n"
     ]
    }
   ],
   "source": [
    "validation_datagen = ImageDataGenerator(rescale=1./255)\n",
    "validation_generator = validation_datagen.flow_from_directory(\n",
    "        'split_data/val',\n",
    "        target_size=(224, 224),\n",
    "        batch_size=batch_size,\n",
    "        class_mode='categorical')"
   ]
  },
  {
   "cell_type": "code",
   "execution_count": 8,
   "id": "d5816246",
   "metadata": {},
   "outputs": [],
   "source": [
    "# Compile the model\n",
    "model = models.Model(inputs=vgg19_base.input, outputs=predictions)\n",
    "optimizer = tf.keras.optimizers.Adam(learning_rate=1e-5)\n",
    "model.compile(optimizer=optimizer, loss='categorical_crossentropy', metrics=['accuracy'])"
   ]
  },
  {
   "cell_type": "code",
   "execution_count": 9,
   "id": "cbc9d983",
   "metadata": {},
   "outputs": [
    {
     "name": "stdout",
     "output_type": "stream",
     "text": [
      "Epoch 1/25\n",
      "173/173 [==============================] - 1177s 7s/step - loss: 2.1225 - accuracy: 0.2578 - val_loss: 1.8744 - val_accuracy: 0.3333\n",
      "Epoch 2/25\n",
      "173/173 [==============================] - 1122s 6s/step - loss: 1.6825 - accuracy: 0.4180 - val_loss: 1.6985 - val_accuracy: 0.4062\n",
      "Epoch 3/25\n",
      "173/173 [==============================] - 1113s 6s/step - loss: 1.4775 - accuracy: 0.4984 - val_loss: 1.4872 - val_accuracy: 0.4955\n",
      "Epoch 4/25\n",
      "173/173 [==============================] - 1113s 6s/step - loss: 1.3172 - accuracy: 0.5605 - val_loss: 1.4343 - val_accuracy: 0.5149\n",
      "Epoch 5/25\n",
      "173/173 [==============================] - 1104s 6s/step - loss: 1.2070 - accuracy: 0.6006 - val_loss: 1.3956 - val_accuracy: 0.5432\n",
      "Epoch 6/25\n",
      "173/173 [==============================] - 1107s 6s/step - loss: 1.1206 - accuracy: 0.6326 - val_loss: 1.2965 - val_accuracy: 0.5893\n",
      "Epoch 7/25\n",
      "173/173 [==============================] - 1111s 6s/step - loss: 1.0404 - accuracy: 0.6564 - val_loss: 1.2778 - val_accuracy: 0.5789\n",
      "Epoch 8/25\n",
      "173/173 [==============================] - 1116s 6s/step - loss: 0.9931 - accuracy: 0.6796 - val_loss: 1.1816 - val_accuracy: 0.6161\n",
      "Epoch 9/25\n",
      "173/173 [==============================] - 1108s 6s/step - loss: 0.9269 - accuracy: 0.6971 - val_loss: 1.1888 - val_accuracy: 0.6086\n",
      "Epoch 10/25\n",
      "173/173 [==============================] - 1108s 6s/step - loss: 0.8896 - accuracy: 0.7137 - val_loss: 1.2313 - val_accuracy: 0.6042\n",
      "Epoch 11/25\n",
      "173/173 [==============================] - 1189s 7s/step - loss: 0.8528 - accuracy: 0.7253 - val_loss: 1.1141 - val_accuracy: 0.6220\n",
      "Epoch 12/25\n",
      "173/173 [==============================] - 1127s 7s/step - loss: 0.8155 - accuracy: 0.7359 - val_loss: 1.1681 - val_accuracy: 0.6280\n",
      "Epoch 13/25\n",
      "173/173 [==============================] - 1123s 6s/step - loss: 0.7938 - accuracy: 0.7399 - val_loss: 1.1600 - val_accuracy: 0.6310\n",
      "Epoch 14/25\n",
      "173/173 [==============================] - 1150s 7s/step - loss: 0.7677 - accuracy: 0.7478 - val_loss: 1.0696 - val_accuracy: 0.6562\n",
      "Epoch 15/25\n",
      "173/173 [==============================] - 1139s 7s/step - loss: 0.7359 - accuracy: 0.7587 - val_loss: 1.1401 - val_accuracy: 0.6176\n",
      "Epoch 16/25\n",
      "173/173 [==============================] - 1091s 6s/step - loss: 0.7042 - accuracy: 0.7746 - val_loss: 1.0620 - val_accuracy: 0.6711\n",
      "Epoch 17/25\n",
      "173/173 [==============================] - 1197s 7s/step - loss: 0.6692 - accuracy: 0.7829 - val_loss: 1.0990 - val_accuracy: 0.6354\n",
      "Epoch 18/25\n",
      "173/173 [==============================] - 1107s 6s/step - loss: 0.6559 - accuracy: 0.7863 - val_loss: 1.0106 - val_accuracy: 0.6652\n",
      "Epoch 19/25\n",
      "173/173 [==============================] - 1118s 6s/step - loss: 0.6355 - accuracy: 0.7957 - val_loss: 1.0384 - val_accuracy: 0.6726\n",
      "Epoch 20/25\n",
      "173/173 [==============================] - 1116s 6s/step - loss: 0.6105 - accuracy: 0.8009 - val_loss: 1.0339 - val_accuracy: 0.6801\n",
      "Epoch 21/25\n",
      "173/173 [==============================] - 1147s 7s/step - loss: 0.5739 - accuracy: 0.8123 - val_loss: 1.0966 - val_accuracy: 0.6622\n",
      "Epoch 22/25\n",
      "173/173 [==============================] - 1110s 6s/step - loss: 0.5675 - accuracy: 0.8185 - val_loss: 1.0139 - val_accuracy: 0.6652\n",
      "Epoch 23/25\n",
      "173/173 [==============================] - 1112s 6s/step - loss: 0.5528 - accuracy: 0.8228 - val_loss: 0.9818 - val_accuracy: 0.6949\n",
      "Epoch 24/25\n",
      "173/173 [==============================] - 1108s 6s/step - loss: 0.5066 - accuracy: 0.8333 - val_loss: 1.0246 - val_accuracy: 0.6756\n",
      "Epoch 25/25\n",
      "173/173 [==============================] - 1108s 6s/step - loss: 0.5025 - accuracy: 0.8403 - val_loss: 1.0195 - val_accuracy: 0.6801\n"
     ]
    }
   ],
   "source": [
    "# Train the model\n",
    "history = model.fit(\n",
    "        train_generator,\n",
    "        steps_per_epoch=train_generator.samples // batch_size,\n",
    "        epochs=num_epochs,\n",
    "        validation_data=validation_generator,\n",
    "        validation_steps=validation_generator.samples // batch_size)"
   ]
  },
  {
   "cell_type": "code",
   "execution_count": 10,
   "id": "49d2cd11",
   "metadata": {},
   "outputs": [
    {
     "name": "stdout",
     "output_type": "stream",
     "text": [
      "Found 706 images belonging to 15 classes.\n",
      "23/23 [==============================] - 93s 4s/step - loss: 0.9171 - accuracy: 0.6983\n",
      "Test Loss: 0.9171121120452881\n",
      "Test Accuracy: 0.698300302028656\n",
      "23/23 [==============================] - 117s 5s/step\n",
      "LWLRAP score: 0.8114052299604707\n",
      "Top-5 categorical accuracy: 0.9560906515580736\n"
     ]
    }
   ],
   "source": [
    "from sklearn.metrics import label_ranking_average_precision_score, top_k_accuracy_score\n",
    "from keras.utils import to_categorical\n",
    "\n",
    "# Load the test data\n",
    "test_datagen = ImageDataGenerator(rescale=1./255)\n",
    "test_generator = test_datagen.flow_from_directory(\n",
    "    'split_data/test',\n",
    "    target_size=(224, 224),\n",
    "    batch_size=batch_size,\n",
    "    class_mode='categorical',\n",
    "    shuffle=False\n",
    ")\n",
    "\n",
    "# Evaluate the model on the test set\n",
    "test_loss, test_accuracy = model.evaluate(test_generator)\n",
    "print('Test Loss:', test_loss)\n",
    "print('Test Accuracy:', test_accuracy)\n",
    "\n",
    "# Make predictions on the test set\n",
    "y_pred = model.predict(test_generator)\n",
    "\n",
    "# Compute LWLRAP score\n",
    "y_true = to_categorical(test_generator.labels, num_classes=15)\n",
    "lwlrAP = label_ranking_average_precision_score(y_true, y_pred)\n",
    "print('LWLRAP score:', lwlrAP)\n",
    "\n",
    "# Compute top-5 categorical accuracy\n",
    "top5_accuracy = top_k_accuracy_score(test_generator.labels, y_pred, k=5)\n",
    "print('Top-5 categorical accuracy:', top5_accuracy)"
   ]
  },
  {
   "cell_type": "code",
   "execution_count": 10,
   "id": "f0f32c45",
   "metadata": {},
   "outputs": [
    {
     "ename": "NameError",
     "evalue": "name 'history' is not defined",
     "output_type": "error",
     "traceback": [
      "\u001b[1;31m---------------------------------------------------------------------------\u001b[0m",
      "\u001b[1;31mNameError\u001b[0m                                 Traceback (most recent call last)",
      "\u001b[1;32m~\\AppData\\Local\\Temp\\ipykernel_20856\\2965312798.py\u001b[0m in \u001b[0;36m<module>\u001b[1;34m\u001b[0m\n\u001b[0;32m      2\u001b[0m \u001b[1;33m\u001b[0m\u001b[0m\n\u001b[0;32m      3\u001b[0m \u001b[1;31m# Plot training and validation accuracy\u001b[0m\u001b[1;33m\u001b[0m\u001b[1;33m\u001b[0m\u001b[0m\n\u001b[1;32m----> 4\u001b[1;33m \u001b[0macc\u001b[0m \u001b[1;33m=\u001b[0m \u001b[0mhistory\u001b[0m\u001b[1;33m.\u001b[0m\u001b[0mhistory\u001b[0m\u001b[1;33m[\u001b[0m\u001b[1;34m'accuracy'\u001b[0m\u001b[1;33m]\u001b[0m\u001b[1;33m\u001b[0m\u001b[1;33m\u001b[0m\u001b[0m\n\u001b[0m\u001b[0;32m      5\u001b[0m \u001b[0mval_acc\u001b[0m \u001b[1;33m=\u001b[0m \u001b[0mhistory\u001b[0m\u001b[1;33m.\u001b[0m\u001b[0mhistory\u001b[0m\u001b[1;33m[\u001b[0m\u001b[1;34m'val_accuracy'\u001b[0m\u001b[1;33m]\u001b[0m\u001b[1;33m\u001b[0m\u001b[1;33m\u001b[0m\u001b[0m\n\u001b[0;32m      6\u001b[0m \u001b[0mepochs\u001b[0m \u001b[1;33m=\u001b[0m \u001b[0mrange\u001b[0m\u001b[1;33m(\u001b[0m\u001b[1;36m1\u001b[0m\u001b[1;33m,\u001b[0m \u001b[0mlen\u001b[0m\u001b[1;33m(\u001b[0m\u001b[0macc\u001b[0m\u001b[1;33m)\u001b[0m \u001b[1;33m+\u001b[0m \u001b[1;36m1\u001b[0m\u001b[1;33m)\u001b[0m\u001b[1;33m\u001b[0m\u001b[1;33m\u001b[0m\u001b[0m\n",
      "\u001b[1;31mNameError\u001b[0m: name 'history' is not defined"
     ]
    }
   ],
   "source": [
    "import matplotlib.pyplot as plt\n",
    "\n",
    "# Plot training and validation accuracy\n",
    "acc = history.history['accuracy']\n",
    "val_acc = history.history['val_accuracy']\n",
    "epochs = range(1, len(acc) + 1)\n",
    "plt.plot(epochs, acc, 'b', label='Training accuracy')\n",
    "plt.plot(epochs, val_acc, 'r', label='Validation accuracy')\n",
    "plt.title('Training and validation accuracy')\n",
    "plt.xlabel('Epochs')\n",
    "plt.ylabel('Accuracy')\n",
    "plt.legend()\n",
    "plt.show()\n",
    "\n",
    "# Plot training and validation loss\n",
    "loss = history.history['loss']\n",
    "val_loss = history.history['val_loss']\n",
    "epochs = range(1, len(loss) + 1)\n",
    "plt.plot(epochs, loss, 'b', label='Training loss')\n",
    "plt.plot(epochs, val_loss, 'r', label='Validation loss')\n",
    "plt.title('Training and validation loss')\n",
    "plt.xlabel('Epochs')\n",
    "plt.ylabel('Loss')\n",
    "plt.legend()\n",
    "plt.show()\n"
   ]
  },
  {
   "cell_type": "code",
   "execution_count": 11,
   "id": "3453c319",
   "metadata": {},
   "outputs": [
    {
     "name": "stdout",
     "output_type": "stream",
     "text": [
      "Precision: 0.9999999987341773\n",
      "Recall: 0.9874999987656251\n",
      "F1 Score: 0.9937106405759292\n"
     ]
    }
   ],
   "source": [
    "import numpy as np\n",
    "\n",
    "# Get the true positive, false positive, true negative, and false negative values\n",
    "y_true = test_generator.labels\n",
    "y_pred = np.argmax(y_pred, axis=1)\n",
    "tp = np.sum((y_true == 1) & (y_pred == 1))\n",
    "fp = np.sum((y_true == 0) & (y_pred == 1))\n",
    "tn = np.sum((y_true == 0) & (y_pred == 0))\n",
    "fn = np.sum((y_true == 1) & (y_pred == 0))\n",
    "\n",
    "# Calculate precision, recall, and F1 score\n",
    "precision = tp / (tp + fp + 1e-7)  # Add a small epsilon to avoid division by zero\n",
    "recall = tp / (tp + fn + 1e-7)\n",
    "f1_score = 2 * (precision * recall) / (precision + recall + 1e-7)\n",
    "\n",
    "# Print the results\n",
    "print('Precision:', precision)\n",
    "print('Recall:', recall)\n",
    "print('F1 Score:', f1_score)\n"
   ]
  },
  {
   "cell_type": "code",
   "execution_count": 12,
   "id": "66bd8e81",
   "metadata": {},
   "outputs": [
    {
     "name": "stdout",
     "output_type": "stream",
     "text": [
      "23/23 [==============================] - 230s 9s/step\n",
      "                              precision    recall  f1-score   support\n",
      "\n",
      "                    Apusapus       0.67      0.29      0.40         7\n",
      "              Chlorischloris       0.84      0.70      0.76       113\n",
      "Coccothraustescoccothraustes       0.61      0.81      0.69        21\n",
      "             Columbapalumbus       0.78      0.74      0.76        53\n",
      "            Corvusfrugilegus       0.67      0.80      0.73         5\n",
      "             Delichonurbicum       0.00      0.00      0.00        11\n",
      "            Dendrocoposmajor       0.67      0.33      0.44         6\n",
      "               Motacillaalba       0.50      0.21      0.29        24\n",
      "              Passermontanus       0.45      0.39      0.42        33\n",
      "         Phoenicurusochruros       0.57      0.61      0.59        75\n",
      "      Phoenicurusphoenicurus       0.66      0.80      0.72        90\n",
      "       Phylloscopuscollybita       0.70      0.86      0.77       133\n",
      "               Sittaeuropaea       0.82      0.80      0.81        59\n",
      "        Streptopeliadecaocto       0.79      0.76      0.77        58\n",
      "               Turduspilaris       0.50      0.44      0.47        18\n",
      "\n",
      "                    accuracy                           0.70       706\n",
      "                   macro avg       0.61      0.57      0.58       706\n",
      "                weighted avg       0.69      0.70      0.69       706\n",
      "\n"
     ]
    },
    {
     "name": "stderr",
     "output_type": "stream",
     "text": [
      "C:\\Python39\\lib\\site-packages\\sklearn\\metrics\\_classification.py:1344: UndefinedMetricWarning: Precision and F-score are ill-defined and being set to 0.0 in labels with no predicted samples. Use `zero_division` parameter to control this behavior.\n",
      "  _warn_prf(average, modifier, msg_start, len(result))\n",
      "C:\\Python39\\lib\\site-packages\\sklearn\\metrics\\_classification.py:1344: UndefinedMetricWarning: Precision and F-score are ill-defined and being set to 0.0 in labels with no predicted samples. Use `zero_division` parameter to control this behavior.\n",
      "  _warn_prf(average, modifier, msg_start, len(result))\n",
      "C:\\Python39\\lib\\site-packages\\sklearn\\metrics\\_classification.py:1344: UndefinedMetricWarning: Precision and F-score are ill-defined and being set to 0.0 in labels with no predicted samples. Use `zero_division` parameter to control this behavior.\n",
      "  _warn_prf(average, modifier, msg_start, len(result))\n"
     ]
    }
   ],
   "source": [
    "from sklearn.metrics import classification_report\n",
    "import numpy as np\n",
    "\n",
    "# Get predicted labels\n",
    "y_pred = model.predict(test_generator)\n",
    "\n",
    "# Convert predicted probabilities to labels\n",
    "y_pred = np.argmax(y_pred, axis=1)\n",
    "\n",
    "# Get true labels\n",
    "y_true = test_generator.classes\n",
    "\n",
    "# Get class names\n",
    "class_names = list(test_generator.class_indices.keys())\n",
    "\n",
    "# Calculate precision, recall, and F1 score\n",
    "print(classification_report(y_true, y_pred, target_names=class_names))\n"
   ]
  },
  {
   "cell_type": "code",
   "execution_count": 9,
   "id": "e035c627",
   "metadata": {},
   "outputs": [
    {
     "name": "stdout",
     "output_type": "stream",
     "text": [
      "Epoch 1/20\n",
      "173/173 [==============================] - 1063s 6s/step - loss: 2.1269 - accuracy: 0.2641 - val_loss: 1.8423 - val_accuracy: 0.3631\n",
      "Epoch 2/20\n",
      "173/173 [==============================] - 1089s 6s/step - loss: 1.7030 - accuracy: 0.4122 - val_loss: 1.6300 - val_accuracy: 0.4315\n",
      "Epoch 3/20\n",
      "173/173 [==============================] - 1088s 6s/step - loss: 1.4871 - accuracy: 0.5000 - val_loss: 1.5111 - val_accuracy: 0.4896\n",
      "Epoch 4/20\n",
      "173/173 [==============================] - 1080s 6s/step - loss: 1.3335 - accuracy: 0.5564 - val_loss: 1.4336 - val_accuracy: 0.5268\n",
      "Epoch 5/20\n",
      "173/173 [==============================] - 1083s 6s/step - loss: 1.2414 - accuracy: 0.5820 - val_loss: 1.3177 - val_accuracy: 0.5595\n",
      "Epoch 6/20\n",
      "173/173 [==============================] - 1087s 6s/step - loss: 1.1172 - accuracy: 0.6348 - val_loss: 1.2816 - val_accuracy: 0.5729\n",
      "Epoch 7/20\n",
      "173/173 [==============================] - 1088s 6s/step - loss: 1.0750 - accuracy: 0.6494 - val_loss: 1.2208 - val_accuracy: 0.5967\n",
      "Epoch 8/20\n",
      "173/173 [==============================] - 1080s 6s/step - loss: 1.0102 - accuracy: 0.6754 - val_loss: 1.2048 - val_accuracy: 0.6042\n",
      "Epoch 9/20\n",
      "173/173 [==============================] - 1087s 6s/step - loss: 0.9522 - accuracy: 0.6936 - val_loss: 1.1874 - val_accuracy: 0.6071\n",
      "Epoch 10/20\n",
      "173/173 [==============================] - 1091s 6s/step - loss: 0.9121 - accuracy: 0.7047 - val_loss: 1.1138 - val_accuracy: 0.6369\n",
      "Epoch 11/20\n",
      "173/173 [==============================] - 1092s 6s/step - loss: 0.8750 - accuracy: 0.7189 - val_loss: 1.1176 - val_accuracy: 0.6324\n",
      "Epoch 12/20\n",
      "173/173 [==============================] - 1088s 6s/step - loss: 0.8384 - accuracy: 0.7290 - val_loss: 1.0983 - val_accuracy: 0.6414\n",
      "Epoch 13/20\n",
      "173/173 [==============================] - 1089s 6s/step - loss: 0.8084 - accuracy: 0.7402 - val_loss: 1.1123 - val_accuracy: 0.6324\n",
      "Epoch 14/20\n",
      "173/173 [==============================] - 1085s 6s/step - loss: 0.7893 - accuracy: 0.7430 - val_loss: 1.0622 - val_accuracy: 0.6548\n",
      "Epoch 15/20\n",
      "173/173 [==============================] - 1083s 6s/step - loss: 0.7636 - accuracy: 0.7496 - val_loss: 1.0664 - val_accuracy: 0.6637\n",
      "Epoch 16/20\n",
      "173/173 [==============================] - 1079s 6s/step - loss: 0.7150 - accuracy: 0.7757 - val_loss: 1.0815 - val_accuracy: 0.6458\n",
      "Epoch 17/20\n",
      "173/173 [==============================] - 1084s 6s/step - loss: 0.6915 - accuracy: 0.7738 - val_loss: 1.0563 - val_accuracy: 0.6488\n",
      "Epoch 18/20\n",
      "173/173 [==============================] - 1082s 6s/step - loss: 0.6677 - accuracy: 0.7852 - val_loss: 1.0170 - val_accuracy: 0.6607\n",
      "Epoch 19/20\n",
      "173/173 [==============================] - 1092s 6s/step - loss: 0.6403 - accuracy: 0.7943 - val_loss: 1.0970 - val_accuracy: 0.6414\n",
      "Epoch 20/20\n",
      "173/173 [==============================] - 1086s 6s/step - loss: 0.6290 - accuracy: 0.7948 - val_loss: 1.0989 - val_accuracy: 0.6562\n"
     ]
    }
   ],
   "source": [
    "# Train the model\n",
    "history = model.fit(\n",
    "        train_generator,\n",
    "        steps_per_epoch=train_generator.samples // batch_size,\n",
    "        epochs=num_epochs,\n",
    "        validation_data=validation_generator,\n",
    "        validation_steps=validation_generator.samples // batch_size)"
   ]
  },
  {
   "cell_type": "code",
   "execution_count": 10,
   "id": "0c3fbf22",
   "metadata": {},
   "outputs": [
    {
     "name": "stdout",
     "output_type": "stream",
     "text": [
      "Found 706 images belonging to 15 classes.\n",
      "23/23 [==============================] - 92s 4s/step - loss: 1.0199 - accuracy: 0.6714\n",
      "Test Loss: 1.019948124885559\n",
      "Test Accuracy: 0.6713880896568298\n",
      "23/23 [==============================] - 89s 4s/step\n",
      "LWLRAP score: 0.7949873741304337\n",
      "Top-5 categorical accuracy: 0.9504249291784702\n"
     ]
    }
   ],
   "source": [
    "from sklearn.metrics import label_ranking_average_precision_score, top_k_accuracy_score\n",
    "from keras.utils import to_categorical\n",
    "\n",
    "# Load the test data\n",
    "test_datagen = ImageDataGenerator(rescale=1./255)\n",
    "test_generator = test_datagen.flow_from_directory(\n",
    "    'split_data/test',\n",
    "    target_size=(224, 224),\n",
    "    batch_size=batch_size,\n",
    "    class_mode='categorical',\n",
    "    shuffle=False\n",
    ")\n",
    "\n",
    "# Evaluate the model on the test set\n",
    "test_loss, test_accuracy = model.evaluate(test_generator)\n",
    "print('Test Loss:', test_loss)\n",
    "print('Test Accuracy:', test_accuracy)\n",
    "\n",
    "# Make predictions on the test set\n",
    "y_pred = model.predict(test_generator)\n",
    "\n",
    "# Compute LWLRAP score\n",
    "y_true = to_categorical(test_generator.labels, num_classes=15)\n",
    "lwlrAP = label_ranking_average_precision_score(y_true, y_pred)\n",
    "print('LWLRAP score:', lwlrAP)\n",
    "\n",
    "# Compute top-5 categorical accuracy\n",
    "top5_accuracy = top_k_accuracy_score(test_generator.labels, y_pred, k=5)\n",
    "print('Top-5 categorical accuracy:', top5_accuracy)"
   ]
  },
  {
   "cell_type": "code",
   "execution_count": 9,
   "id": "5f8c8e9a",
   "metadata": {},
   "outputs": [
    {
     "name": "stdout",
     "output_type": "stream",
     "text": [
      "Epoch 1/10\n",
      "173/173 [==============================] - 1222s 7s/step - loss: 2.1233 - accuracy: 0.2625 - val_loss: 1.8426 - val_accuracy: 0.3423\n",
      "Epoch 2/10\n",
      "173/173 [==============================] - 1162s 7s/step - loss: 1.7136 - accuracy: 0.3976 - val_loss: 1.6699 - val_accuracy: 0.4479\n",
      "Epoch 3/10\n",
      "173/173 [==============================] - 1099s 6s/step - loss: 1.5182 - accuracy: 0.4798 - val_loss: 1.5405 - val_accuracy: 0.4836\n",
      "Epoch 4/10\n",
      "173/173 [==============================] - 1101s 6s/step - loss: 1.3435 - accuracy: 0.5517 - val_loss: 1.4092 - val_accuracy: 0.5476\n",
      "Epoch 5/10\n",
      "173/173 [==============================] - 1131s 7s/step - loss: 1.2272 - accuracy: 0.5932 - val_loss: 1.3647 - val_accuracy: 0.5744\n",
      "Epoch 6/10\n",
      "173/173 [==============================] - 1353s 8s/step - loss: 1.1226 - accuracy: 0.6326 - val_loss: 1.2702 - val_accuracy: 0.5804\n",
      "Epoch 7/10\n",
      "173/173 [==============================] - 1328s 8s/step - loss: 1.0558 - accuracy: 0.6543 - val_loss: 1.3028 - val_accuracy: 0.5848\n",
      "Epoch 8/10\n",
      "173/173 [==============================] - 1190s 7s/step - loss: 1.0020 - accuracy: 0.6781 - val_loss: 1.3080 - val_accuracy: 0.5580\n",
      "Epoch 9/10\n",
      "173/173 [==============================] - 1104s 6s/step - loss: 0.9544 - accuracy: 0.6889 - val_loss: 1.1766 - val_accuracy: 0.6235\n",
      "Epoch 10/10\n",
      "173/173 [==============================] - 1111s 6s/step - loss: 0.9186 - accuracy: 0.7025 - val_loss: 1.2352 - val_accuracy: 0.5670\n"
     ]
    }
   ],
   "source": [
    "# Train the model\n",
    "history = model.fit(\n",
    "        train_generator,\n",
    "        steps_per_epoch=train_generator.samples // batch_size,\n",
    "        epochs=num_epochs,\n",
    "        validation_data=validation_generator,\n",
    "        validation_steps=validation_generator.samples // batch_size)"
   ]
  },
  {
   "cell_type": "code",
   "execution_count": 14,
   "id": "6a1b71d7",
   "metadata": {},
   "outputs": [
    {
     "name": "stdout",
     "output_type": "stream",
     "text": [
      "Found 706 images belonging to 15 classes.\n",
      "23/23 [==============================] - 112s 5s/step - loss: 1.1242 - accuracy: 0.6062\n",
      "Test Loss: 1.124183177947998\n",
      "Test Accuracy: 0.6062322854995728\n",
      "23/23 [==============================] - 105s 5s/step\n",
      "LWLRAP score: 0.7493770983501867\n",
      "Top-5 categorical accuracy: 0.9419263456090652\n"
     ]
    }
   ],
   "source": [
    "from sklearn.metrics import label_ranking_average_precision_score, top_k_accuracy_score\n",
    "from keras.utils import to_categorical\n",
    "\n",
    "# Load the test data\n",
    "test_datagen = ImageDataGenerator(rescale=1./255)\n",
    "test_generator = test_datagen.flow_from_directory(\n",
    "    'split_data/test',\n",
    "    target_size=(224, 224),\n",
    "    batch_size=batch_size,\n",
    "    class_mode='categorical',\n",
    "    shuffle=False\n",
    ")\n",
    "\n",
    "# Evaluate the model on the test set\n",
    "test_loss, test_accuracy = model.evaluate(test_generator)\n",
    "print('Test Loss:', test_loss)\n",
    "print('Test Accuracy:', test_accuracy)\n",
    "\n",
    "# Make predictions on the test set\n",
    "y_pred = model.predict(test_generator)\n",
    "\n",
    "# Compute LWLRAP score\n",
    "y_true = to_categorical(test_generator.labels, num_classes=15)\n",
    "lwlrAP = label_ranking_average_precision_score(y_true, y_pred)\n",
    "print('LWLRAP score:', lwlrAP)\n",
    "\n",
    "# Compute top-5 categorical accuracy\n",
    "top5_accuracy = top_k_accuracy_score(test_generator.labels, y_pred, k=5)\n",
    "print('Top-5 categorical accuracy:', top5_accuracy)"
   ]
  },
  {
   "cell_type": "code",
   "execution_count": 9,
   "id": "eeeaa5c1",
   "metadata": {},
   "outputs": [
    {
     "data": {
      "image/png": "[encoded data removed]",
      "text/plain": [
       "<PIL.Image.Image image mode=RGBA size=2566x1231>"
      ]
     },
     "execution_count": 9,
     "metadata": {},
     "output_type": "execute_result"
    }
   ],
   "source": [
    "import visualkeras\n",
    "from keras_visualizer import visualizer \n",
    "\n",
    "visualkeras.layered_view(model, legend=True) \n"
   ]
  }
 ],
 "metadata": {
  "kernelspec": {
   "display_name": "Python 3 (ipykernel)",
   "language": "python",
   "name": "python3"
  },
  "language_info": {
   "codemirror_mode": {
    "name": "ipython",
    "version": 3
   },
   "file_extension": ".py",
   "mimetype": "text/x-python",
   "name": "python",
   "nbconvert_exporter": "python",
   "pygments_lexer": "ipython3",
   "version": "3.9.13"
  }
 },
 "nbformat": 4,
 "nbformat_minor": 5
}
