{
 "cells": [
  {
   "cell_type": "code",
   "execution_count": 4,
   "id": "fbfcb86d",
   "metadata": {},
   "outputs": [],
   "source": [
    "import os\n",
    "import shutil\n",
    "\n",
    "train_ratio = 0.8\n",
    "val_ratio = 0.1\n",
    "test_ratio = 0.1\n",
    "\n",
    "base_path = \"bird_sounds/\"\n",
    "im_path = \"spectrograms_normalized/\"\n",
    "dest_path = \"split_data/\""
   ]
  },
  {
   "cell_type": "code",
   "execution_count": 5,
   "id": "7613a331",
   "metadata": {},
   "outputs": [],
   "source": [
    "import os\n",
    "import random\n",
    "\n",
    "data_dir = \"spectrogrmas_normalized\"  # directory containing spectrogram images\n",
    "train_dir = \"train\"  # directory to store training set\n",
    "val_dir = \"val\"  # directory to store validation set\n",
    "test_dir = \"test\"  # directory to store test set\n",
    "train_prop = 0.8  # proportion of data to use for training\n",
    "val_prop = 0.1  # proportion of data to use for validation\n",
    "test_prop = 0.1  # proportion of data to use for testing"
   ]
  },
  {
   "cell_type": "code",
   "execution_count": 6,
   "id": "7e54b8f9",
   "metadata": {},
   "outputs": [],
   "source": [
    "birds = os.listdir(im_path)\n",
    "\n",
    "for bird in birds:\n",
    "    bird_path = os.path.join(im_path, bird)\n",
    "    spectrograms = os.listdir(bird_path)\n",
    "    num_files = len(spectrograms)\n",
    "    num_train = int(num_files * train_ratio)\n",
    "    num_val = int(num_files * val_ratio)\n",
    "    num_test = num_files - num_train - num_val\n",
    "    \n",
    "    train_path = os.path.join(dest_path, \"train\", bird)\n",
    "    val_path = os.path.join(dest_path, \"val\", bird)\n",
    "    test_path = os.path.join(dest_path, \"test\", bird)\n",
    "    \n",
    "    os.makedirs(train_path, exist_ok=True)\n",
    "    os.makedirs(val_path, exist_ok=True)\n",
    "    os.makedirs(test_path, exist_ok=True)\n",
    "    \n",
    "    train_files = spectrograms[:num_train]\n",
    "    val_files = spectrograms[num_train:num_train+num_val]\n",
    "    test_files = spectrograms[num_train+num_val:]\n",
    "    \n",
    "    for file in train_files:\n",
    "        src = os.path.join(bird_path, file)\n",
    "        dst = os.path.join(train_path, file)\n",
    "        shutil.copy(src, dst)\n",
    "        \n",
    "    for file in val_files:\n",
    "        src = os.path.join(bird_path, file)\n",
    "        dst = os.path.join(val_path, file)\n",
    "        shutil.copy(src, dst)\n",
    "        \n",
    "    for file in test_files:\n",
    "        src = os.path.join(bird_path, file)\n",
    "        dst = os.path.join(test_path, file)\n",
    "        shutil.copy(src, dst)"
   ]
  }
 ],
 "metadata": {
  "kernelspec": {
   "display_name": "Python 3 (ipykernel)",
   "language": "python",
   "name": "python3"
  },
  "language_info": {
   "codemirror_mode": {
    "name": "ipython",
    "version": 3
   },
   "file_extension": ".py",
   "mimetype": "text/x-python",
   "name": "python",
   "nbconvert_exporter": "python",
   "pygments_lexer": "ipython3",
   "version": "3.9.12"
  }
 },
 "nbformat": 4,
 "nbformat_minor": 5
}
