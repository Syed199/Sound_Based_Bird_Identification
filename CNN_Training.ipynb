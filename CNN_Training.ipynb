{
 "cells": [
  {
   "cell_type": "code",
   "execution_count": 1,
   "id": "7af349a9",
   "metadata": {},
   "outputs": [],
   "source": [
    "from tensorflow.keras.models import Sequential\n",
    "from tensorflow.keras.layers import Conv2D, MaxPooling2D, Flatten, Dense, Dropout\n",
    "from tensorflow.keras.optimizers import Adam"
   ]
  },
  {
   "cell_type": "code",
   "execution_count": 2,
   "id": "7d21c622",
   "metadata": {},
   "outputs": [],
   "source": [
    "num_classes = 15\n",
    "batch_size = 16\n",
    "num_epochs = 20"
   ]
  },
  {
   "cell_type": "code",
   "execution_count": 3,
   "id": "be975aff",
   "metadata": {},
   "outputs": [],
   "source": [
    "from tensorflow.keras.preprocessing.image import ImageDataGenerator"
   ]
  },
  {
   "cell_type": "code",
   "execution_count": 4,
   "id": "8ec6b5bb",
   "metadata": {},
   "outputs": [
    {
     "name": "stdout",
     "output_type": "stream",
     "text": [
      "Found 5536 images belonging to 15 classes.\n",
      "Found 686 images belonging to 15 classes.\n",
      "Found 706 images belonging to 15 classes.\n"
     ]
    }
   ],
   "source": [
    "train_datagen = ImageDataGenerator(rescale=1./255)\n",
    "train_generator = train_datagen.flow_from_directory(\n",
    "        'split_data/train/',\n",
    "        target_size=(224, 224),\n",
    "        batch_size=batch_size,\n",
    "        class_mode='categorical')\n",
    "\n",
    "validation_datagen = ImageDataGenerator(rescale=1./255)\n",
    "validation_generator = validation_datagen.flow_from_directory(\n",
    "        'split_data/val',\n",
    "        target_size=(224, 224),\n",
    "        batch_size=batch_size,\n",
    "        class_mode='categorical')\n",
    "\n",
    "test_datagen = ImageDataGenerator(rescale=1./255)\n",
    "test_generator = test_datagen.flow_from_directory(\n",
    "    'split_data/test',\n",
    "    target_size=(224, 224),\n",
    "    batch_size=batch_size,\n",
    "    class_mode='categorical',\n",
    "    shuffle=False\n",
    ")"
   ]
  },
  {
   "cell_type": "code",
   "execution_count": 5,
   "id": "2aa2fbce",
   "metadata": {},
   "outputs": [],
   "source": [
    "# Define the CNN architecture\n",
    "model = Sequential([\n",
    "    Conv2D(filters=32, kernel_size=(3, 3), activation='relu', input_shape=(224, 224, 3)),\n",
    "    MaxPooling2D(pool_size=(2, 2)),\n",
    "    Conv2D(filters=64, kernel_size=(3, 3), activation='relu'),\n",
    "    MaxPooling2D(pool_size=(2, 2)),\n",
    "    Conv2D(filters=128, kernel_size=(3, 3), activation='relu'),\n",
    "    MaxPooling2D(pool_size=(2, 2)),\n",
    "    Flatten(),\n",
    "    Dense(units=256, activation='relu'),\n",
    "    Dropout(0.5),\n",
    "    Dense(units=128, activation='relu'),\n",
    "    Dropout(0.5),\n",
    "    Dense(units=num_classes, activation='softmax')\n",
    "])"
   ]
  },
  {
   "cell_type": "code",
   "execution_count": 6,
   "id": "30c69b18",
   "metadata": {},
   "outputs": [],
   "source": [
    "# Compile the model\n",
    "model.compile(loss='categorical_crossentropy',\n",
    "              optimizer=Adam(learning_rate=0.001),\n",
    "              metrics=['accuracy', 'top_k_categorical_accuracy'])"
   ]
  },
  {
   "cell_type": "code",
   "execution_count": 7,
   "id": "de2e995d",
   "metadata": {},
   "outputs": [
    {
     "name": "stdout",
     "output_type": "stream",
     "text": [
      "Epoch 1/20\n",
      "346/346 [==============================] - 365s 1s/step - loss: 2.3363 - accuracy: 0.2090 - top_k_categorical_accuracy: 0.6882 - val_loss: 1.7101 - val_accuracy: 0.3950 - val_top_k_categorical_accuracy: 0.8309\n",
      "Epoch 2/20\n",
      "346/346 [==============================] - 335s 968ms/step - loss: 1.5542 - accuracy: 0.4753 - top_k_categorical_accuracy: 0.8728 - val_loss: 1.2566 - val_accuracy: 0.5510 - val_top_k_categorical_accuracy: 0.9329\n",
      "Epoch 3/20\n",
      "346/346 [==============================] - 324s 937ms/step - loss: 1.2641 - accuracy: 0.5892 - top_k_categorical_accuracy: 0.9137 - val_loss: 1.0746 - val_accuracy: 0.6647 - val_top_k_categorical_accuracy: 0.9373\n",
      "Epoch 4/20\n",
      "346/346 [==============================] - 328s 948ms/step - loss: 1.0480 - accuracy: 0.6568 - top_k_categorical_accuracy: 0.9321 - val_loss: 0.9896 - val_accuracy: 0.6778 - val_top_k_categorical_accuracy: 0.9519\n",
      "Epoch 5/20\n",
      "346/346 [==============================] - 325s 938ms/step - loss: 0.9170 - accuracy: 0.7057 - top_k_categorical_accuracy: 0.9474 - val_loss: 0.9252 - val_accuracy: 0.7070 - val_top_k_categorical_accuracy: 0.9417\n",
      "Epoch 6/20\n",
      "346/346 [==============================] - 325s 940ms/step - loss: 0.7983 - accuracy: 0.7484 - top_k_categorical_accuracy: 0.9586 - val_loss: 0.9362 - val_accuracy: 0.7303 - val_top_k_categorical_accuracy: 0.9534\n",
      "Epoch 7/20\n",
      "346/346 [==============================] - 322s 929ms/step - loss: 0.6803 - accuracy: 0.7794 - top_k_categorical_accuracy: 0.9740 - val_loss: 0.8759 - val_accuracy: 0.7332 - val_top_k_categorical_accuracy: 0.9519\n",
      "Epoch 8/20\n",
      "346/346 [==============================] - 321s 929ms/step - loss: 0.5898 - accuracy: 0.8179 - top_k_categorical_accuracy: 0.9740 - val_loss: 0.9236 - val_accuracy: 0.7172 - val_top_k_categorical_accuracy: 0.9504\n",
      "Epoch 9/20\n",
      "346/346 [==============================] - 324s 938ms/step - loss: 0.4934 - accuracy: 0.8463 - top_k_categorical_accuracy: 0.9814 - val_loss: 1.0176 - val_accuracy: 0.7245 - val_top_k_categorical_accuracy: 0.9504\n",
      "Epoch 10/20\n",
      "346/346 [==============================] - 326s 941ms/step - loss: 0.4276 - accuracy: 0.8595 - top_k_categorical_accuracy: 0.9863 - val_loss: 0.9585 - val_accuracy: 0.7391 - val_top_k_categorical_accuracy: 0.9592\n",
      "Epoch 11/20\n",
      "346/346 [==============================] - 317s 915ms/step - loss: 0.4016 - accuracy: 0.8687 - top_k_categorical_accuracy: 0.9888 - val_loss: 1.0182 - val_accuracy: 0.7434 - val_top_k_categorical_accuracy: 0.9592\n",
      "Epoch 12/20\n",
      "346/346 [==============================] - 308s 890ms/step - loss: 0.3292 - accuracy: 0.8925 - top_k_categorical_accuracy: 0.9895 - val_loss: 1.0998 - val_accuracy: 0.7449 - val_top_k_categorical_accuracy: 0.9621\n",
      "Epoch 13/20\n",
      "346/346 [==============================] - 308s 891ms/step - loss: 0.2931 - accuracy: 0.9057 - top_k_categorical_accuracy: 0.9917 - val_loss: 1.1071 - val_accuracy: 0.7420 - val_top_k_categorical_accuracy: 0.9548\n",
      "Epoch 14/20\n",
      "346/346 [==============================] - 312s 901ms/step - loss: 0.2635 - accuracy: 0.9124 - top_k_categorical_accuracy: 0.9940 - val_loss: 1.1516 - val_accuracy: 0.7449 - val_top_k_categorical_accuracy: 0.9621\n",
      "Epoch 15/20\n",
      "346/346 [==============================] - 320s 926ms/step - loss: 0.2473 - accuracy: 0.9223 - top_k_categorical_accuracy: 0.9930 - val_loss: 1.1248 - val_accuracy: 0.7376 - val_top_k_categorical_accuracy: 0.9548\n",
      "Epoch 16/20\n",
      "346/346 [==============================] - 314s 908ms/step - loss: 0.2147 - accuracy: 0.9366 - top_k_categorical_accuracy: 0.9951 - val_loss: 1.2469 - val_accuracy: 0.7187 - val_top_k_categorical_accuracy: 0.9519\n",
      "Epoch 17/20\n",
      "346/346 [==============================] - 310s 895ms/step - loss: 0.2124 - accuracy: 0.9330 - top_k_categorical_accuracy: 0.9958 - val_loss: 1.1847 - val_accuracy: 0.7551 - val_top_k_categorical_accuracy: 0.9577\n",
      "Epoch 18/20\n",
      "346/346 [==============================] - 306s 885ms/step - loss: 0.2223 - accuracy: 0.9301 - top_k_categorical_accuracy: 0.9942 - val_loss: 1.2092 - val_accuracy: 0.7507 - val_top_k_categorical_accuracy: 0.9534\n",
      "Epoch 19/20\n",
      "346/346 [==============================] - 308s 889ms/step - loss: 0.1845 - accuracy: 0.9408 - top_k_categorical_accuracy: 0.9957 - val_loss: 1.1928 - val_accuracy: 0.7609 - val_top_k_categorical_accuracy: 0.9636\n",
      "Epoch 20/20\n",
      "346/346 [==============================] - 309s 893ms/step - loss: 0.1694 - accuracy: 0.9494 - top_k_categorical_accuracy: 0.9957 - val_loss: 1.1901 - val_accuracy: 0.7332 - val_top_k_categorical_accuracy: 0.9577\n"
     ]
    }
   ],
   "source": [
    "# Train the model\n",
    "history = model.fit(train_generator,\n",
    "                    epochs=num_epochs,\n",
    "                    validation_data=validation_generator)"
   ]
  },
  {
   "cell_type": "code",
   "execution_count": 8,
   "id": "07882f98",
   "metadata": {},
   "outputs": [
    {
     "name": "stdout",
     "output_type": "stream",
     "text": [
      "45/45 [==============================] - 8s 180ms/step - loss: 1.4139 - accuracy: 0.7450 - top_k_categorical_accuracy: 0.9476\n"
     ]
    }
   ],
   "source": [
    "# Evaluate the model on the test data \n",
    "test_loss_and_acc = model.evaluate(test_generator)"
   ]
  },
  {
   "cell_type": "code",
   "execution_count": 14,
   "id": "7db4e270",
   "metadata": {},
   "outputs": [
    {
     "name": "stdout",
     "output_type": "stream",
     "text": [
      "45/45 [==============================] - 17s 368ms/step - loss: 1.1756 - accuracy: 0.7090 - top_k_categorical_accuracy: 0.9350\n"
     ]
    }
   ],
   "source": [
    "# Evaluate the model on the test data \n",
    "test_loss_and_acc = model.evaluate(test_generator)"
   ]
  },
  {
   "cell_type": "code",
   "execution_count": 9,
   "id": "a3317957",
   "metadata": {},
   "outputs": [
    {
     "name": "stdout",
     "output_type": "stream",
     "text": [
      "45/45 [==============================] - 7s 158ms/step - loss: 1.4139 - accuracy: 0.7450 - top_k_categorical_accuracy: 0.9476\n"
     ]
    }
   ],
   "source": [
    "test_acc = model.evaluate(test_generator)"
   ]
  },
  {
   "cell_type": "code",
   "execution_count": 16,
   "id": "b8bb7536",
   "metadata": {},
   "outputs": [
    {
     "name": "stdout",
     "output_type": "stream",
     "text": [
      "45/45 [==============================] - 15s 337ms/step - loss: 1.1756 - accuracy: 0.7090 - top_k_categorical_accuracy: 0.9350\n"
     ]
    }
   ],
   "source": [
    "test_acc = model.evaluate(test_generator)"
   ]
  }
 ],
 "metadata": {
  "kernelspec": {
   "display_name": "Python 3 (ipykernel)",
   "language": "python",
   "name": "python3"
  },
  "language_info": {
   "codemirror_mode": {
    "name": "ipython",
    "version": 3
   },
   "file_extension": ".py",
   "mimetype": "text/x-python",
   "name": "python",
   "nbconvert_exporter": "python",
   "pygments_lexer": "ipython3",
   "version": "3.9.13"
  }
 },
 "nbformat": 4,
 "nbformat_minor": 5
}
