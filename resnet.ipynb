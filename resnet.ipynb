{
 "cells": [
  {
   "cell_type": "code",
   "execution_count": 2,
   "id": "b14a5d60",
   "metadata": {},
   "outputs": [
    {
     "name": "stdout",
     "output_type": "stream",
     "text": [
      "Collecting torch\n",
      "  Downloading torch-2.0.1-cp39-cp39-win_amd64.whl (172.4 MB)\n",
      "     -------------------------------------- 172.4/172.4 MB 7.4 MB/s eta 0:00:00\n",
      "Requirement already satisfied: typing-extensions in c:\\users\\arham\\anaconda3\\lib\\site-packages (from torch) (4.3.0)\n",
      "Requirement already satisfied: sympy in c:\\users\\arham\\anaconda3\\lib\\site-packages (from torch) (1.10.1)\n",
      "Requirement already satisfied: jinja2 in c:\\users\\arham\\anaconda3\\lib\\site-packages (from torch) (2.11.3)\n",
      "Requirement already satisfied: filelock in c:\\users\\arham\\anaconda3\\lib\\site-packages (from torch) (3.6.0)\n",
      "Requirement already satisfied: networkx in c:\\users\\arham\\anaconda3\\lib\\site-packages (from torch) (2.8.4)\n",
      "Requirement already satisfied: MarkupSafe>=0.23 in c:\\users\\arham\\anaconda3\\lib\\site-packages (from jinja2->torch) (2.0.1)\n",
      "Requirement already satisfied: mpmath>=0.19 in c:\\users\\arham\\anaconda3\\lib\\site-packages (from sympy->torch) (1.2.1)\n",
      "Installing collected packages: torch\n",
      "Successfully installed torch-2.0.1\n",
      "Note: you may need to restart the kernel to use updated packages.\n"
     ]
    }
   ],
   "source": [
    "pip install torch"
   ]
  },
  {
   "cell_type": "code",
   "execution_count": 5,
   "id": "4263b51f",
   "metadata": {},
   "outputs": [
    {
     "name": "stdout",
     "output_type": "stream",
     "text": [
      "Requirement already satisfied: torchvision in c:\\users\\arham\\anaconda3\\lib\\site-packages (0.15.2)\n",
      "Requirement already satisfied: pillow!=8.3.*,>=5.3.0 in c:\\users\\arham\\anaconda3\\lib\\site-packages (from torchvision) (9.2.0)\n",
      "Requirement already satisfied: numpy in c:\\users\\arham\\anaconda3\\lib\\site-packages (from torchvision) (1.23.5)\n",
      "Requirement already satisfied: requests in c:\\users\\arham\\anaconda3\\lib\\site-packages (from torchvision) (2.28.1)\n",
      "Requirement already satisfied: torch==2.0.1 in c:\\users\\arham\\anaconda3\\lib\\site-packages (from torchvision) (2.0.1)\n",
      "Requirement already satisfied: typing-extensions in c:\\users\\arham\\anaconda3\\lib\\site-packages (from torch==2.0.1->torchvision) (4.3.0)\n",
      "Requirement already satisfied: networkx in c:\\users\\arham\\anaconda3\\lib\\site-packages (from torch==2.0.1->torchvision) (2.8.4)\n",
      "Requirement already satisfied: filelock in c:\\users\\arham\\anaconda3\\lib\\site-packages (from torch==2.0.1->torchvision) (3.6.0)\n",
      "Requirement already satisfied: jinja2 in c:\\users\\arham\\anaconda3\\lib\\site-packages (from torch==2.0.1->torchvision) (2.11.3)\n",
      "Requirement already satisfied: sympy in c:\\users\\arham\\anaconda3\\lib\\site-packages (from torch==2.0.1->torchvision) (1.10.1)\n",
      "Requirement already satisfied: idna<4,>=2.5 in c:\\users\\arham\\anaconda3\\lib\\site-packages (from requests->torchvision) (3.3)\n",
      "Requirement already satisfied: urllib3<1.27,>=1.21.1 in c:\\users\\arham\\anaconda3\\lib\\site-packages (from requests->torchvision) (1.26.11)\n",
      "Requirement already satisfied: charset-normalizer<3,>=2 in c:\\users\\arham\\anaconda3\\lib\\site-packages (from requests->torchvision) (2.0.4)\n",
      "Requirement already satisfied: certifi>=2017.4.17 in c:\\users\\arham\\anaconda3\\lib\\site-packages (from requests->torchvision) (2022.9.14)\n",
      "Requirement already satisfied: MarkupSafe>=0.23 in c:\\users\\arham\\anaconda3\\lib\\site-packages (from jinja2->torch==2.0.1->torchvision) (2.0.1)\n",
      "Requirement already satisfied: mpmath>=0.19 in c:\\users\\arham\\anaconda3\\lib\\site-packages (from sympy->torch==2.0.1->torchvision) (1.2.1)\n",
      "Note: you may need to restart the kernel to use updated packages.\n"
     ]
    }
   ],
   "source": [
    "pip install torchvision"
   ]
  },
  {
   "cell_type": "code",
   "execution_count": 7,
   "id": "eebf3463",
   "metadata": {},
   "outputs": [
    {
     "name": "stdout",
     "output_type": "stream",
     "text": [
      "Collecting torchaudio\n",
      "  Downloading torchaudio-2.0.2-cp39-cp39-win_amd64.whl (2.1 MB)\n",
      "     ---------------------------------------- 2.1/2.1 MB 2.1 MB/s eta 0:00:00\n",
      "Requirement already satisfied: torch==2.0.1 in c:\\users\\arham\\anaconda3\\lib\\site-packages (from torchaudio) (2.0.1)\n",
      "Requirement already satisfied: typing-extensions in c:\\users\\arham\\anaconda3\\lib\\site-packages (from torch==2.0.1->torchaudio) (4.3.0)\n",
      "Requirement already satisfied: jinja2 in c:\\users\\arham\\anaconda3\\lib\\site-packages (from torch==2.0.1->torchaudio) (2.11.3)\n",
      "Requirement already satisfied: sympy in c:\\users\\arham\\anaconda3\\lib\\site-packages (from torch==2.0.1->torchaudio) (1.10.1)\n",
      "Requirement already satisfied: networkx in c:\\users\\arham\\anaconda3\\lib\\site-packages (from torch==2.0.1->torchaudio) (2.8.4)\n",
      "Requirement already satisfied: filelock in c:\\users\\arham\\anaconda3\\lib\\site-packages (from torch==2.0.1->torchaudio) (3.6.0)\n",
      "Requirement already satisfied: MarkupSafe>=0.23 in c:\\users\\arham\\anaconda3\\lib\\site-packages (from jinja2->torch==2.0.1->torchaudio) (2.0.1)\n",
      "Requirement already satisfied: mpmath>=0.19 in c:\\users\\arham\\anaconda3\\lib\\site-packages (from sympy->torch==2.0.1->torchaudio) (1.2.1)\n",
      "Installing collected packages: torchaudio\n",
      "Successfully installed torchaudio-2.0.2\n",
      "Note: you may need to restart the kernel to use updated packages.\n"
     ]
    }
   ],
   "source": [
    "pip install torchaudio"
   ]
  },
  {
   "cell_type": "code",
   "execution_count": 14,
   "id": "6fb61400",
   "metadata": {},
   "outputs": [
    {
     "name": "stdout",
     "output_type": "stream",
     "text": [
      "Epoch [1/15], Loss: 2.2689, Accuracy: 23.75%\n",
      "Epoch [2/15], Loss: 1.6934, Accuracy: 47.99%\n",
      "Epoch [3/15], Loss: 1.2317, Accuracy: 61.54%\n",
      "Epoch [4/15], Loss: 1.0334, Accuracy: 68.23%\n",
      "Epoch [5/15], Loss: 0.9259, Accuracy: 71.33%\n",
      "Epoch [6/15], Loss: 0.8456, Accuracy: 73.27%\n",
      "Epoch [7/15], Loss: 0.7656, Accuracy: 76.86%\n",
      "Epoch [8/15], Loss: 0.7102, Accuracy: 78.34%\n",
      "Epoch [9/15], Loss: 0.6633, Accuracy: 79.08%\n",
      "Epoch [10/15], Loss: 0.6040, Accuracy: 81.72%\n",
      "Epoch [11/15], Loss: 0.5686, Accuracy: 82.68%\n",
      "Epoch [12/15], Loss: 0.5259, Accuracy: 84.01%\n",
      "Epoch [13/15], Loss: 0.4773, Accuracy: 85.80%\n",
      "Epoch [14/15], Loss: 0.4402, Accuracy: 86.47%\n",
      "Epoch [15/15], Loss: 0.4003, Accuracy: 88.20%\n",
      "Accuracy: 57.51%\n",
      "Loss: 0.1699233055114746\n"
     ]
    },
    {
     "ename": "ValueError",
     "evalue": "y_true and y_score have different shape",
     "output_type": "error",
     "traceback": [
      "\u001b[1;31m---------------------------------------------------------------------------\u001b[0m",
      "\u001b[1;31mValueError\u001b[0m                                Traceback (most recent call last)",
      "\u001b[1;32m~\\AppData\\Local\\Temp\\ipykernel_24148\\3944951764.py\u001b[0m in \u001b[0;36m<module>\u001b[1;34m\u001b[0m\n\u001b[0;32m    122\u001b[0m \u001b[1;33m\u001b[0m\u001b[0m\n\u001b[0;32m    123\u001b[0m \u001b[1;31m# Calculate LWLRAP score\u001b[0m\u001b[1;33m\u001b[0m\u001b[1;33m\u001b[0m\u001b[0m\n\u001b[1;32m--> 124\u001b[1;33m \u001b[0mlwlrAP\u001b[0m \u001b[1;33m=\u001b[0m \u001b[0mlabel_ranking_average_precision_score\u001b[0m\u001b[1;33m(\u001b[0m\u001b[0my_true\u001b[0m\u001b[1;33m.\u001b[0m\u001b[0mcpu\u001b[0m\u001b[1;33m(\u001b[0m\u001b[1;33m)\u001b[0m\u001b[1;33m.\u001b[0m\u001b[0mnumpy\u001b[0m\u001b[1;33m(\u001b[0m\u001b[1;33m)\u001b[0m\u001b[1;33m,\u001b[0m \u001b[0my_pred_onehot\u001b[0m\u001b[1;33m.\u001b[0m\u001b[0mnumpy\u001b[0m\u001b[1;33m(\u001b[0m\u001b[1;33m)\u001b[0m\u001b[1;33m)\u001b[0m\u001b[1;33m\u001b[0m\u001b[1;33m\u001b[0m\u001b[0m\n\u001b[0m\u001b[0;32m    125\u001b[0m \u001b[0mprint\u001b[0m\u001b[1;33m(\u001b[0m\u001b[1;34m'LWLRAP score:'\u001b[0m\u001b[1;33m,\u001b[0m \u001b[0mlwlrAP\u001b[0m\u001b[1;33m)\u001b[0m\u001b[1;33m\u001b[0m\u001b[1;33m\u001b[0m\u001b[0m\n\u001b[0;32m    126\u001b[0m \u001b[1;33m\u001b[0m\u001b[0m\n",
      "\u001b[1;32m~\\anaconda3\\lib\\site-packages\\sklearn\\metrics\\_ranking.py\u001b[0m in \u001b[0;36mlabel_ranking_average_precision_score\u001b[1;34m(y_true, y_score, sample_weight)\u001b[0m\n\u001b[0;32m   1057\u001b[0m \u001b[1;33m\u001b[0m\u001b[0m\n\u001b[0;32m   1058\u001b[0m     \u001b[1;32mif\u001b[0m \u001b[0my_true\u001b[0m\u001b[1;33m.\u001b[0m\u001b[0mshape\u001b[0m \u001b[1;33m!=\u001b[0m \u001b[0my_score\u001b[0m\u001b[1;33m.\u001b[0m\u001b[0mshape\u001b[0m\u001b[1;33m:\u001b[0m\u001b[1;33m\u001b[0m\u001b[1;33m\u001b[0m\u001b[0m\n\u001b[1;32m-> 1059\u001b[1;33m         \u001b[1;32mraise\u001b[0m \u001b[0mValueError\u001b[0m\u001b[1;33m(\u001b[0m\u001b[1;34m\"y_true and y_score have different shape\"\u001b[0m\u001b[1;33m)\u001b[0m\u001b[1;33m\u001b[0m\u001b[1;33m\u001b[0m\u001b[0m\n\u001b[0m\u001b[0;32m   1060\u001b[0m \u001b[1;33m\u001b[0m\u001b[0m\n\u001b[0;32m   1061\u001b[0m     \u001b[1;31m# Handle badly formatted array and the degenerate case with one label\u001b[0m\u001b[1;33m\u001b[0m\u001b[1;33m\u001b[0m\u001b[0m\n",
      "\u001b[1;31mValueError\u001b[0m: y_true and y_score have different shape"
     ]
    }
   ],
   "source": [
    "import torch\n",
    "import torch.nn as nn\n",
    "from torchvision.models import resnet18\n",
    "from torchvision.transforms import transforms\n",
    "from torch.utils.data import DataLoader\n",
    "import torch.nn.init as init\n",
    "import numpy as np\n",
    "from sklearn.metrics import label_ranking_average_precision_score, top_k_accuracy_score\n",
    "\n",
    "# Paths to the train, test, and validation data folders\n",
    "train_dir = 'split_data/train'\n",
    "test_dir = 'split_data/test'\n",
    "val_dir = 'split_data/val'\n",
    "\n",
    "# Image dimensions\n",
    "img_width, img_height = 224, 224\n",
    "\n",
    "# Batch size\n",
    "batch_size = 64\n",
    "\n",
    "# Number of input channels\n",
    "input_channels = 1\n",
    "\n",
    "# Data transformations\n",
    "data_transforms = transforms.Compose([\n",
    "    transforms.Resize((img_height, img_width)),\n",
    "    transforms.Grayscale(num_output_channels=input_channels),\n",
    "    transforms.ToTensor(),\n",
    "    transforms.Normalize(mean=[0.5], std=[0.5])  # Normalize to [-1, 1]\n",
    "])\n",
    "\n",
    "# Data loaders\n",
    "train_dataset = torchvision.datasets.ImageFolder(train_dir, transform=data_transforms)\n",
    "train_loader = DataLoader(train_dataset, batch_size=batch_size, shuffle=True, num_workers=1)\n",
    "\n",
    "test_dataset = torchvision.datasets.ImageFolder(test_dir, transform=data_transforms)\n",
    "test_loader = DataLoader(test_dataset, batch_size=batch_size, shuffle=False, num_workers=1)\n",
    "\n",
    "val_dataset = torchvision.datasets.ImageFolder(val_dir, transform=data_transforms)\n",
    "val_loader = DataLoader(val_dataset, batch_size=batch_size, shuffle=False, num_workers=1)\n",
    "\n",
    "# Model initialization\n",
    "model = resnet18(num_classes=len(train_dataset.classes))\n",
    "\n",
    "# Modify the first convolutional layer to accept 1 input channel\n",
    "model.conv1 = nn.Conv2d(input_channels, 64, kernel_size=7, stride=2, padding=3, bias=False)\n",
    "\n",
    "# Weight initialization\n",
    "for m in model.modules():\n",
    "    if isinstance(m, nn.Conv2d):\n",
    "        init.normal_(m.weight, mean=0, std=0.02)\n",
    "    elif isinstance(m, nn.BatchNorm2d):\n",
    "        init.normal_(m.weight, mean=1, std=0.02)\n",
    "        init.constant_(m.bias, 0)\n",
    "\n",
    "# Loss function and optimizer\n",
    "criterion = nn.CrossEntropyLoss()\n",
    "optimizer = torch.optim.SGD(model.parameters(), lr=0.001, momentum=0.9)\n",
    "\n",
    "# Training loop\n",
    "device = torch.device(\"cpu\")\n",
    "model.to(device)\n",
    "\n",
    "# Training configuration\n",
    "epochs = 15\n",
    "\n",
    "# Train the model\n",
    "for epoch in range(epochs):\n",
    "    model.train()\n",
    "    running_loss = 0.0\n",
    "    correct = 0\n",
    "    total = 0\n",
    "\n",
    "    for inputs, labels in train_loader:\n",
    "        inputs = inputs.to(device)\n",
    "        labels = labels.to(device)\n",
    "\n",
    "        optimizer.zero_grad()\n",
    "        outputs = model(inputs)\n",
    "        loss = criterion(outputs, labels)\n",
    "        loss.backward()\n",
    "        optimizer.step()\n",
    "\n",
    "        running_loss += loss.item() * inputs.size(0)\n",
    "        _, predicted = torch.max(outputs.data, 1)\n",
    "        total += labels.size(0)\n",
    "        correct += (predicted == labels).sum().item()\n",
    "\n",
    "    epoch_loss = running_loss / len(train_dataset)\n",
    "    epoch_acc = correct / total\n",
    "\n",
    "    print('Epoch [{}/{}], Loss: {:.4f}, Accuracy: {:.2f}%'.format(epoch+1, epochs, epoch_loss, epoch_acc*100))\n",
    "\n",
    "# Evaluation\n",
    "model.eval()\n",
    "y_true = []\n",
    "y_pred = []\n",
    "\n",
    "with torch.no_grad():\n",
    "    for inputs, labels in test_loader:\n",
    "        inputs = inputs.to(device)\n",
    "        labels = labels.to(device)\n",
    "\n",
    "        outputs = model(inputs)\n",
    "        _, predicted = torch.max(outputs.data, 1)\n",
    "\n",
    "        y_true.extend(labels.cpu().numpy())\n",
    "        y_pred.extend(predicted.cpu().numpy())\n",
    "\n",
    "# Convert predictions to one-hot encoded format\n",
    "y_true = torch.tensor(y_true)\n",
    "y_pred = torch.tensor(y_pred)\n",
    "y_pred_onehot = torch.zeros(y_pred.size(0), len(test_dataset.classes))\n",
    "y_pred_onehot.scatter_(1, y_pred.view(-1, 1), 1)\n",
    "\n",
    "# Calculate accuracy and loss\n",
    "accuracy = (y_true == y_pred).sum().item() / len(y_true)\n",
    "loss = criterion(outputs, labels).item()\n",
    "\n",
    "print('Accuracy: {:.2f}%'.format(accuracy * 100))\n",
    "print('Loss:', loss)\n",
    "\n",
    "# Calculate LWLRAP score\n",
    "lwlrAP = label_ranking_average_precision_score(y_true.cpu().numpy(), y_pred_onehot.numpy())\n",
    "print('LWLRAP score:', lwlrAP)\n",
    "\n",
    "# Calculate top-5 categorical accuracy\n",
    "top5_accuracy = top_k_accuracy_score(y_true.cpu().numpy(), y_pred_onehot.numpy(), k=5)\n",
    "print('Top-5 categorical accuracy:', top5_accuracy)\n"
   ]
  },
  {
   "cell_type": "code",
   "execution_count": 16,
   "id": "f0832e06",
   "metadata": {},
   "outputs": [
    {
     "name": "stdout",
     "output_type": "stream",
     "text": [
      "LWLRAP score: 0.6033994334277607\n",
      "Top-5 categorical accuracy: 0.7195467422096318\n"
     ]
    },
    {
     "name": "stderr",
     "output_type": "stream",
     "text": [
      "C:\\Users\\arham\\AppData\\Local\\Temp\\ipykernel_24148\\1647601717.py:5: UserWarning: To copy construct from a tensor, it is recommended to use sourceTensor.clone().detach() or sourceTensor.clone().detach().requires_grad_(True), rather than torch.tensor(sourceTensor).\n",
      "  y_pred = torch.tensor(y_pred)\n"
     ]
    }
   ],
   "source": [
    "import torch.nn.functional as F\n",
    "\n",
    "# Convert predictions to one-hot encoded format\n",
    "y_true = torch.tensor(y_true)\n",
    "y_pred = torch.tensor(y_pred)\n",
    "y_pred_onehot = torch.zeros(y_pred.size(0), len(test_dataset.classes))\n",
    "y_pred_onehot.scatter_(1, y_pred.view(-1, 1), 1)\n",
    "\n",
    "# Convert y_true to one-hot encoded format and then numpy array\n",
    "y_true_onehot = F.one_hot(y_true.squeeze(), num_classes=len(test_dataset.classes)).numpy()\n",
    "\n",
    "# Calculate LWLRAP score\n",
    "lwlrAP = label_ranking_average_precision_score(y_true_onehot, y_pred_onehot.numpy())\n",
    "print('LWLRAP score:', lwlrAP)\n",
    "\n",
    "# Calculate top-5 categorical accuracy\n",
    "top5_accuracy = top_k_accuracy_score(y_true, y_pred_onehot.numpy(), k=5)\n",
    "print('Top-5 categorical accuracy:', top5_accuracy)\n"
   ]
  }
 ],
 "metadata": {
  "kernelspec": {
   "display_name": "Python 3 (ipykernel)",
   "language": "python",
   "name": "python3"
  },
  "language_info": {
   "codemirror_mode": {
    "name": "ipython",
    "version": 3
   },
   "file_extension": ".py",
   "mimetype": "text/x-python",
   "name": "python",
   "nbconvert_exporter": "python",
   "pygments_lexer": "ipython3",
   "version": "3.9.13"
  }
 },
 "nbformat": 4,
 "nbformat_minor": 5
}
