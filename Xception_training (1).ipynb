{
 "cells": [
  {
   "cell_type": "code",
   "execution_count": 1,
   "id": "943bcfb2",
   "metadata": {},
   "outputs": [],
   "source": [
    "import tensorflow as tf"
   ]
  },
  {
   "cell_type": "code",
   "execution_count": 1,
   "id": "7cf78d00",
   "metadata": {},
   "outputs": [],
   "source": [
    "from tensorflow.keras.applications.xception import Xception\n",
    "from tensorflow.keras.layers import Dense, GlobalAveragePooling2D\n",
    "from tensorflow.keras.models import Model\n",
    "from tensorflow.keras.optimizers import Adam"
   ]
  },
  {
   "cell_type": "code",
   "execution_count": 2,
   "id": "056af583",
   "metadata": {},
   "outputs": [],
   "source": [
    "# Paths to the train, test, and validation data folders\n",
    "train_dir = 'split_data/train'\n",
    "test_dir = 'split_data/test'\n",
    "val_dir = 'split_data/val'"
   ]
  },
  {
   "cell_type": "code",
   "execution_count": 3,
   "id": "47197f04",
   "metadata": {},
   "outputs": [],
   "source": [
    "# Image dimensions\n",
    "img_width, img_height = 224, 224\n",
    "input_shape = (img_width, img_height, 3)\n",
    "\n",
    "# Batch size\n",
    "batch_size = 32"
   ]
  },
  {
   "cell_type": "code",
   "execution_count": 4,
   "id": "fb23feba",
   "metadata": {},
   "outputs": [],
   "source": [
    "from tensorflow.keras.preprocessing.image import ImageDataGenerator"
   ]
  },
  {
   "cell_type": "code",
   "execution_count": 5,
   "id": "12ede2cf",
   "metadata": {},
   "outputs": [
    {
     "name": "stdout",
     "output_type": "stream",
     "text": [
      "Found 5536 images belonging to 15 classes.\n",
      "Found 706 images belonging to 15 classes.\n",
      "Found 686 images belonging to 15 classes.\n"
     ]
    }
   ],
   "source": [
    "# Data generators\n",
    "train_datagen = ImageDataGenerator(rescale=1./255)\n",
    "train_generator = train_datagen.flow_from_directory(\n",
    "        train_dir,\n",
    "        target_size=(img_width, img_height),\n",
    "        batch_size=batch_size,\n",
    "        class_mode='categorical')\n",
    "\n",
    "test_datagen = ImageDataGenerator(rescale=1./255)\n",
    "test_generator = test_datagen.flow_from_directory(\n",
    "        test_dir,\n",
    "        target_size=(img_width, img_height),\n",
    "        batch_size=batch_size,\n",
    "        class_mode='categorical')\n",
    "\n",
    "val_datagen = ImageDataGenerator(rescale=1./255)\n",
    "val_generator = val_datagen.flow_from_directory(\n",
    "        val_dir,\n",
    "        target_size=(img_width, img_height),\n",
    "        batch_size=batch_size,\n",
    "        class_mode='categorical')"
   ]
  },
  {
   "cell_type": "code",
   "execution_count": 6,
   "id": "ba75228d",
   "metadata": {},
   "outputs": [],
   "source": [
    "# Model architecture\n",
    "base_model = Xception(weights='imagenet', include_top=False, input_shape=input_shape)\n",
    "x = base_model.output\n",
    "x = GlobalAveragePooling2D()(x)\n",
    "x = Dense(1024, activation='relu')(x)\n",
    "predictions = Dense(train_generator.num_classes, activation='softmax')(x)\n",
    "model = Model(inputs=base_model.input, outputs=predictions)"
   ]
  },
  {
   "cell_type": "code",
   "execution_count": 7,
   "id": "6e10d00f",
   "metadata": {},
   "outputs": [],
   "source": [
    "# Freeze all layers in the base model\n",
    "for layer in base_model.layers:\n",
    "    layer.trainable = False"
   ]
  },
  {
   "cell_type": "code",
   "execution_count": 8,
   "id": "73aa2eab",
   "metadata": {},
   "outputs": [],
   "source": [
    "# Compile the model\n",
    "model.compile(optimizer=Adam(learning_rate=0.001),\n",
    "              loss='categorical_crossentropy',\n",
    "              metrics=['accuracy'])"
   ]
  },
  {
   "cell_type": "code",
   "execution_count": 10,
   "id": "ce25ed5d",
   "metadata": {},
   "outputs": [
    {
     "name": "stdout",
     "output_type": "stream",
     "text": [
      "Requirement already satisfied: Pillow in c:\\users\\hebas\\anaconda3\\envs\\tf_new\\lib\\site-packages (9.5.0)\n",
      "Note: you may need to restart the kernel to use updated packages.\n"
     ]
    }
   ],
   "source": [
    "#pip install Pillow"
   ]
  },
  {
   "cell_type": "code",
   "execution_count": 9,
   "id": "1bd59379",
   "metadata": {},
   "outputs": [
    {
     "name": "stdout",
     "output_type": "stream",
     "text": [
      "Epoch 1/10\n",
      "173/173 [==============================] - 365s 2s/step - loss: 1.8153 - accuracy: 0.3793 - val_loss: 1.7089 - val_accuracy: 0.4111\n",
      "Epoch 2/10\n",
      "173/173 [==============================] - 397s 2s/step - loss: 1.4864 - accuracy: 0.4809 - val_loss: 1.6792 - val_accuracy: 0.4140\n",
      "Epoch 3/10\n",
      "173/173 [==============================] - 366s 2s/step - loss: 1.3241 - accuracy: 0.5423 - val_loss: 1.6531 - val_accuracy: 0.4315\n",
      "Epoch 4/10\n",
      "173/173 [==============================] - 365s 2s/step - loss: 1.2173 - accuracy: 0.5836 - val_loss: 1.6013 - val_accuracy: 0.4548\n",
      "Epoch 5/10\n",
      "173/173 [==============================] - 397s 2s/step - loss: 1.1090 - accuracy: 0.6212 - val_loss: 1.5019 - val_accuracy: 0.4927\n",
      "Epoch 6/10\n",
      "173/173 [==============================] - 389s 2s/step - loss: 1.0423 - accuracy: 0.6404 - val_loss: 1.5718 - val_accuracy: 0.5000\n",
      "Epoch 7/10\n",
      "173/173 [==============================] - 368s 2s/step - loss: 0.9465 - accuracy: 0.6837 - val_loss: 1.5462 - val_accuracy: 0.5015\n",
      "Epoch 8/10\n",
      "173/173 [==============================] - 377s 2s/step - loss: 0.8630 - accuracy: 0.7061 - val_loss: 1.6697 - val_accuracy: 0.4767\n",
      "Epoch 9/10\n",
      "173/173 [==============================] - 374s 2s/step - loss: 0.8106 - accuracy: 0.7289 - val_loss: 1.6210 - val_accuracy: 0.4854\n",
      "Epoch 10/10\n",
      "173/173 [==============================] - 360s 2s/step - loss: 0.7317 - accuracy: 0.7596 - val_loss: 1.6213 - val_accuracy: 0.5015\n"
     ]
    }
   ],
   "source": [
    "# Train the model\n",
    "history = model.fit(train_generator,\n",
    "                    epochs=10,\n",
    "                    validation_data=val_generator,\n",
    "                    verbose=1)"
   ]
  },
  {
   "cell_type": "code",
   "execution_count": 10,
   "id": "83d3e9ac",
   "metadata": {},
   "outputs": [
    {
     "name": "stdout",
     "output_type": "stream",
     "text": [
      "Test loss: 1.4115718603134155\n",
      "Test accuracy: 0.5368272066116333\n"
     ]
    }
   ],
   "source": [
    "# Evaluate the model on the test data\n",
    "score = model.evaluate(test_generator, verbose=0)\n",
    "print('Test loss:', score[0])\n",
    "print('Test accuracy:', score[1])"
   ]
  },
  {
   "cell_type": "code",
   "execution_count": 17,
   "id": "7b709fa5",
   "metadata": {},
   "outputs": [
    {
     "name": "stdout",
     "output_type": "stream",
     "text": [
      "23/23 [==============================] - 73s 3s/step\n",
      "LWLRAP score: 0.3126224027782097\n",
      "Top-5 categorical accuracy: 0.5424929178470255\n"
     ]
    }
   ],
   "source": [
    "from keras.utils import to_categorical\n",
    "\n",
    "y_pred = model.predict(test_generator)\n",
    "\n",
    "# Compute LWLRAP score\n",
    "y_true = to_categorical(test_generator.labels, num_classes=15)\n",
    "lwlrAP = label_ranking_average_precision_score(y_true, y_pred)\n",
    "print('LWLRAP score:', lwlrAP)\n",
    "\n",
    "# Compute top-5 categorical accuracy\n",
    "top5_accuracy = top_k_accuracy_score(test_generator.labels, y_pred, k=5)\n",
    "print('Top-5 categorical accuracy:', top5_accuracy)"
   ]
  }
 ],
 "metadata": {
  "kernelspec": {
   "display_name": "Python 3 (ipykernel)",
   "language": "python",
   "name": "python3"
  },
  "language_info": {
   "codemirror_mode": {
    "name": "ipython",
    "version": 3
   },
   "file_extension": ".py",
   "mimetype": "text/x-python",
   "name": "python",
   "nbconvert_exporter": "python",
   "pygments_lexer": "ipython3",
   "version": "3.9.13"
  }
 },
 "nbformat": 4,
 "nbformat_minor": 5
}
