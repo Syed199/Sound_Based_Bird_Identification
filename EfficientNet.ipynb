{
 "cells": [
  {
   "cell_type": "code",
   "execution_count": 1,
   "id": "22adc588",
   "metadata": {},
   "outputs": [],
   "source": [
    "import tensorflow as tf\n",
    "from tensorflow.keras.preprocessing.image import ImageDataGenerator\n",
    "from tensorflow.keras.applications import EfficientNetB0\n",
    "from tensorflow.keras.layers import Dense, GlobalAveragePooling2D\n",
    "from tensorflow.keras.models import Model\n",
    "from tensorflow.keras.optimizers import Adam"
   ]
  },
  {
   "cell_type": "code",
   "execution_count": 2,
   "id": "bc071000",
   "metadata": {},
   "outputs": [],
   "source": [
    "# Define some parameters\n",
    "img_size = (224, 224)\n",
    "batch_size = 32\n",
    "epochs = 10\n",
    "num_classes = 15"
   ]
  },
  {
   "cell_type": "code",
   "execution_count": 7,
   "id": "bc0302dc",
   "metadata": {},
   "outputs": [
    {
     "name": "stdout",
     "output_type": "stream",
     "text": [
      "Found 5536 images belonging to 15 classes.\n",
      "Found 686 images belonging to 15 classes.\n"
     ]
    }
   ],
   "source": [
    "# Define the data generators\n",
    "train_datagen = ImageDataGenerator(\n",
    "                                   rescale=1./255,\n",
    "                                   rotation_range=20,\n",
    "                                   width_shift_range=0.2,\n",
    "                                   height_shift_range=0.2,\n",
    "                                   shear_range=0.2,\n",
    "                                   zoom_range=0.2,\n",
    "                                   horizontal_flip=True,\n",
    "                                   fill_mode='nearest')\n",
    "\n",
    "val_datagen = ImageDataGenerator(rescale=1./255)\n",
    "\n",
    "train_generator = train_datagen.flow_from_directory('split_data/train',\n",
    "                                                    target_size=img_size,\n",
    "                                                    batch_size=batch_size,\n",
    "                                                    shuffle=False,\n",
    "                                                    class_mode='categorical')\n",
    "\n",
    "val_generator = val_datagen.flow_from_directory('split_data/val',\n",
    "                                                target_size=img_size,\n",
    "                                                batch_size=batch_size,\n",
    "                                                shuffle=False,\n",
    "                                                class_mode='categorical')\n"
   ]
  },
  {
   "cell_type": "code",
   "execution_count": 8,
   "id": "471b6dc6",
   "metadata": {},
   "outputs": [],
   "source": [
    "# Load the pre-trained EfficientNet model with pre-trained weights from ImageNet\n",
    "base_model = EfficientNetB0(include_top=False, weights='imagenet', input_shape=(img_size[0], img_size[1], 3))"
   ]
  },
  {
   "cell_type": "code",
   "execution_count": 9,
   "id": "3f7d8c01",
   "metadata": {},
   "outputs": [],
   "source": [
    "# Freeze the pre-trained layers to prevent their weights from being updated during training\n",
    "for layer in base_model.layers:\n",
    "    layer.trainable = False"
   ]
  },
  {
   "cell_type": "code",
   "execution_count": 10,
   "id": "8bcb6455",
   "metadata": {},
   "outputs": [],
   "source": [
    "# Add a new classification layer to the top of the pre-trained model\n",
    "x = base_model.output\n",
    "x = GlobalAveragePooling2D()(x)\n",
    "x = Dense(1024, activation='relu')(x)\n",
    "predictions = Dense(num_classes, activation='softmax')(x)\n",
    "model = Model(inputs=base_model.input, outputs=predictions)"
   ]
  },
  {
   "cell_type": "code",
   "execution_count": 11,
   "id": "b4e3221a",
   "metadata": {},
   "outputs": [],
   "source": [
    "# Compile the model with an appropriate optimizer and loss function\n",
    "model.compile(optimizer=Adam(learning_rate=0.001), loss='categorical_crossentropy', metrics=['accuracy'])"
   ]
  },
  {
   "cell_type": "code",
   "execution_count": 12,
   "id": "e55a9e3f",
   "metadata": {},
   "outputs": [
    {
     "name": "stdout",
     "output_type": "stream",
     "text": [
      "Epoch 1/10\n",
      "173/173 [==============================] - 364s 2s/step - loss: 2.6555 - accuracy: 0.1384 - val_loss: 2.3877 - val_accuracy: 0.1910\n",
      "Epoch 2/10\n",
      "173/173 [==============================] - 279s 2s/step - loss: 2.4152 - accuracy: 0.1738 - val_loss: 2.3841 - val_accuracy: 0.1910\n",
      "Epoch 3/10\n",
      "173/173 [==============================] - 234s 1s/step - loss: 2.4080 - accuracy: 0.1552 - val_loss: 2.3339 - val_accuracy: 0.1910\n",
      "Epoch 4/10\n",
      "173/173 [==============================] - 265s 2s/step - loss: 2.4021 - accuracy: 0.1685 - val_loss: 2.3734 - val_accuracy: 0.1910\n",
      "Epoch 5/10\n",
      "173/173 [==============================] - 273s 2s/step - loss: 2.3895 - accuracy: 0.1906 - val_loss: 2.3409 - val_accuracy: 0.1910\n",
      "Epoch 6/10\n",
      "173/173 [==============================] - 233s 1s/step - loss: 2.4067 - accuracy: 0.1877 - val_loss: 2.3402 - val_accuracy: 0.1633\n",
      "Epoch 7/10\n",
      "173/173 [==============================] - 234s 1s/step - loss: 2.3886 - accuracy: 0.1615 - val_loss: 2.3315 - val_accuracy: 0.1910\n",
      "Epoch 8/10\n",
      "173/173 [==============================] - 247s 1s/step - loss: 2.3705 - accuracy: 0.1906 - val_loss: 2.3388 - val_accuracy: 0.1910\n",
      "Epoch 9/10\n",
      "173/173 [==============================] - 230s 1s/step - loss: 2.3850 - accuracy: 0.1756 - val_loss: 2.3325 - val_accuracy: 0.1910\n",
      "Epoch 10/10\n",
      "173/173 [==============================] - 230s 1s/step - loss: 2.3781 - accuracy: 0.1906 - val_loss: 2.3329 - val_accuracy: 0.1910\n"
     ]
    }
   ],
   "source": [
    "# Train the model on your training data\n",
    "history = model.fit(train_generator, epochs=epochs, validation_data=val_generator)"
   ]
  },
  {
   "cell_type": "code",
   "execution_count": 13,
   "id": "1d436e5e",
   "metadata": {},
   "outputs": [
    {
     "name": "stdout",
     "output_type": "stream",
     "text": [
      "Found 706 images belonging to 15 classes.\n",
      "23/23 [==============================] - 26s 1s/step - loss: 2.3668 - accuracy: 0.1884\n",
      "Test accuracy: 0.1883852630853653\n"
     ]
    }
   ],
   "source": [
    "# Evaluate the model on your test data\n",
    "test_datagen = ImageDataGenerator(rescale=1./255)\n",
    "\n",
    "test_generator = test_datagen.flow_from_directory('split_data/test',\n",
    "                                                  target_size=img_size,\n",
    "                                                  batch_size=batch_size,\n",
    "                                                  class_mode='categorical')\n",
    "\n",
    "test_loss, test_acc = model.evaluate(test_generator)\n",
    "print('Test accuracy:', test_acc)"
   ]
  },
  {
   "cell_type": "code",
   "execution_count": 15,
   "id": "ff379f4d",
   "metadata": {},
   "outputs": [
    {
     "name": "stdout",
     "output_type": "stream",
     "text": [
      "23/23 [==============================] - 25s 1s/step\n",
      "LWLRAP score: 0.3966475332976744\n",
      "Top-5 categorical accuracy: 0.6657223796033994\n"
     ]
    }
   ],
   "source": [
    "from keras.utils import to_categorical\n",
    "\n",
    "y_pred = model.predict(test_generator)\n",
    "\n",
    "# Compute LWLRAP score\n",
    "y_true = to_categorical(test_generator.labels, num_classes=15)\n",
    "lwlrAP = label_ranking_average_precision_score(y_true, y_pred)\n",
    "print('LWLRAP score:', lwlrAP)\n",
    "\n",
    "# Compute top-5 categorical accuracy\n",
    "top5_accuracy = top_k_accuracy_score(test_generator.labels, y_pred, k=5)\n",
    "print('Top-5 categorical accuracy:', top5_accuracy)"
   ]
  }
 ],
 "metadata": {
  "kernelspec": {
   "display_name": "Python 3 (ipykernel)",
   "language": "python",
   "name": "python3"
  },
  "language_info": {
   "codemirror_mode": {
    "name": "ipython",
    "version": 3
   },
   "file_extension": ".py",
   "mimetype": "text/x-python",
   "name": "python",
   "nbconvert_exporter": "python",
   "pygments_lexer": "ipython3",
   "version": "3.9.13"
  }
 },
 "nbformat": 4,
 "nbformat_minor": 5
}
